{
 "cells": [
  {
   "cell_type": "markdown",
   "id": "79bca2ec",
   "metadata": {},
   "source": [
    "# Web Scraping, Cleaning and light Analysis on 2023 Nigeria Presidential Election Data"
   ]
  },
  {
   "cell_type": "code",
   "execution_count": 127,
   "id": "daf246a2",
   "metadata": {},
   "outputs": [],
   "source": [
    "import pandas as pd\n",
    "import requests\n",
    "import numpy as np\n",
    "from bs4 import BeautifulSoup\n",
    "import seaborn as sns\n",
    "import matplotlib.pyplot as plt"
   ]
  },
  {
   "cell_type": "markdown",
   "id": "1f45032a",
   "metadata": {},
   "source": [
    "#### This code below scrapes the Stears Website for 2023 Nigeria Presidential Election results, as the Stears website is updated, so will the data scraped be updated as you re-run the code."
   ]
  },
  {
   "cell_type": "markdown",
   "id": "608097bb",
   "metadata": {},
   "source": [
    "#### The states list was created after inspecting the site, each state correspong to the state site url."
   ]
  },
  {
   "cell_type": "code",
   "execution_count": 102,
   "id": "34b0b182",
   "metadata": {},
   "outputs": [],
   "source": [
    "\n",
    "states = ['AB','AD','AK','AN','BA','BY','BE','BO','CR','DE','EB','ED','EK','EN','GO','IM','JI','KD','KN','KT','KE','KO','KW','LA','NA','NI','OG','ON','OS','OY','PL','RI','SO','TA','YO','ZA','FCT']\n"
   ]
  },
  {
   "cell_type": "markdown",
   "id": "cf8433c0",
   "metadata": {},
   "source": [
    "#### After careful inspection of the website, I created lists to store the values which will be joined as columns to make a Dataframe. \n"
   ]
  },
  {
   "cell_type": "code",
   "execution_count": 103,
   "id": "e0aa645f",
   "metadata": {},
   "outputs": [],
   "source": [
    "state_list =[]\n",
    "lga_list =[]\n",
    "candidate_list =[]\n",
    "party_list =[]\n",
    "votes_list =[]\n",
    "\n",
    "\n",
    "for state in states:\n",
    "        election_res=pd.DataFrame(columns=[\"STATE\",\"LGA\",\"CANDIDATE\", \"PARTY\", \"VOTES\"])\n",
    "        \n",
    "        url = f'https://www.stears.co/elections/2023/president/{state}/'\n",
    "        data = requests.get(url).text\n",
    "        soup = BeautifulSoup(data,\"html.parser\")\n",
    "        votes = soup.select(\".mx-2.text-sm.text-gray-600\")\n",
    "        candidate_no = 18\n",
    "        \n",
    "        #Name of State\n",
    "        for n in range(len(votes)):\n",
    "            state_name = soup.select_one(\".font-jakarta.font-jakarta.text-p_15_15.font-light.text-gray-800.whitespace-nowrap\").text\n",
    "            state_list.append(state_name)\n",
    "        sl = pd.Series(state_list)\n",
    "        election_res['STATE'] = sl.values\n",
    "        \n",
    "        \n",
    "        \n",
    "        #Name of LGA\n",
    "        lga = soup.select(\".font-jakarta.font-jakarta.text-p_20.font-medium.-md\\:hidden.mt-10.capitalize\")\n",
    "        for i in lga:\n",
    "            for x in range(candidate_no):\n",
    "                lga_list.append(i.text)\n",
    "        ll = pd.Series(lga_list)\n",
    "        election_res['LGA'] = ll.values\n",
    "        \n",
    "        #Name of Candidate\n",
    "        candidate = soup.select(\".font-medium.mr-2.-ml-2\")\n",
    "        for i in candidate:\n",
    "            candidate_list.append(i.text)\n",
    "        cl =pd.Series(candidate_list)\n",
    "        election_res['CANDIDATE'] = cl.values\n",
    "        \n",
    "        #Name of Party\n",
    "        party = soup.select(\".px-2.py-2.whitespace-nowrap.text-gray-600.text-center.text-sm>span\")\n",
    "        for i in party:\n",
    "            party_list.append(i.text)\n",
    "        pl =pd.Series(party_list)\n",
    "        election_res['PARTY'] = pl.values\n",
    "        \n",
    "            \n",
    "        #Number of Votes\n",
    "        votes = soup.select(\".mx-2.text-sm.text-gray-600\")\n",
    "        for i in votes:\n",
    "            votes_list.append(i.text)\n",
    "        vl =pd.Series(votes_list)\n",
    "        election_res['VOTES'] = vl.values\n",
    "        \n",
    "        \n",
    "        "
   ]
  },
  {
   "cell_type": "code",
   "execution_count": 5,
   "id": "be5f2ae8",
   "metadata": {},
   "outputs": [],
   "source": [
    "#Save a copy of unaltered web scraped result, for cleaning and analysis using a different suite i.e Microsoft Excel.\n",
    "\n",
    "election_res.to_csv(\"ElectionDataFresh.csv\")"
   ]
  },
  {
   "cell_type": "code",
   "execution_count": 108,
   "id": "33975e0d",
   "metadata": {},
   "outputs": [],
   "source": [
    "#Made a copy for working.\n",
    "\n",
    "df1 = election_res"
   ]
  },
  {
   "cell_type": "code",
   "execution_count": 110,
   "id": "a864b220",
   "metadata": {},
   "outputs": [
    {
     "data": {
      "text/plain": [
       "STATE        object\n",
       "LGA          object\n",
       "CANDIDATE    object\n",
       "PARTY        object\n",
       "VOTES        object\n",
       "dtype: object"
      ]
     },
     "execution_count": 110,
     "metadata": {},
     "output_type": "execute_result"
    }
   ],
   "source": [
    "#Chwcking data types of the columns.\n",
    "\n",
    "df1.dtypes"
   ]
  },
  {
   "cell_type": "code",
   "execution_count": 117,
   "id": "92c72fa2",
   "metadata": {},
   "outputs": [
    {
     "data": {
      "text/html": [
       "<div>\n",
       "<style scoped>\n",
       "    .dataframe tbody tr th:only-of-type {\n",
       "        vertical-align: middle;\n",
       "    }\n",
       "\n",
       "    .dataframe tbody tr th {\n",
       "        vertical-align: top;\n",
       "    }\n",
       "\n",
       "    .dataframe thead th {\n",
       "        text-align: right;\n",
       "    }\n",
       "</style>\n",
       "<table border=\"1\" class=\"dataframe\">\n",
       "  <thead>\n",
       "    <tr style=\"text-align: right;\">\n",
       "      <th></th>\n",
       "      <th>STATE</th>\n",
       "      <th>LGA</th>\n",
       "      <th>CANDIDATE</th>\n",
       "      <th>PARTY</th>\n",
       "      <th>VOTES</th>\n",
       "    </tr>\n",
       "  </thead>\n",
       "  <tbody>\n",
       "    <tr>\n",
       "      <th>0</th>\n",
       "      <td>Abia</td>\n",
       "      <td>Aba North</td>\n",
       "      <td>Tinubu Bola Ahmed</td>\n",
       "      <td>APC</td>\n",
       "      <td>190</td>\n",
       "    </tr>\n",
       "    <tr>\n",
       "      <th>1</th>\n",
       "      <td>Abia</td>\n",
       "      <td>Aba North</td>\n",
       "      <td>Abubakar Atiku</td>\n",
       "      <td>PDP</td>\n",
       "      <td>428</td>\n",
       "    </tr>\n",
       "    <tr>\n",
       "      <th>2</th>\n",
       "      <td>Abia</td>\n",
       "      <td>Aba North</td>\n",
       "      <td>Obi Peter Gregory</td>\n",
       "      <td>LP</td>\n",
       "      <td>35,898</td>\n",
       "    </tr>\n",
       "    <tr>\n",
       "      <th>3</th>\n",
       "      <td>Abia</td>\n",
       "      <td>Aba North</td>\n",
       "      <td>Musa Mohammed Rabiu Kwankwaso</td>\n",
       "      <td>NNPP</td>\n",
       "      <td>94</td>\n",
       "    </tr>\n",
       "    <tr>\n",
       "      <th>4</th>\n",
       "      <td>Abia</td>\n",
       "      <td>Aba North</td>\n",
       "      <td>Kachikwu Dumebi</td>\n",
       "      <td>ADC</td>\n",
       "      <td>18</td>\n",
       "    </tr>\n",
       "    <tr>\n",
       "      <th>5</th>\n",
       "      <td>Abia</td>\n",
       "      <td>Aba North</td>\n",
       "      <td>Umeadi Peter Nnanna Chukwudi</td>\n",
       "      <td>APGA</td>\n",
       "      <td>368</td>\n",
       "    </tr>\n",
       "    <tr>\n",
       "      <th>6</th>\n",
       "      <td>Abia</td>\n",
       "      <td>Aba North</td>\n",
       "      <td>Sani Yabagi Yusuf</td>\n",
       "      <td>ADP</td>\n",
       "      <td>9</td>\n",
       "    </tr>\n",
       "    <tr>\n",
       "      <th>7</th>\n",
       "      <td>Abia</td>\n",
       "      <td>Aba North</td>\n",
       "      <td>Imumolen Irene Christopher</td>\n",
       "      <td>A</td>\n",
       "      <td>14</td>\n",
       "    </tr>\n",
       "    <tr>\n",
       "      <th>8</th>\n",
       "      <td>Abia</td>\n",
       "      <td>Aba North</td>\n",
       "      <td>Almustapha Hamza</td>\n",
       "      <td>AA</td>\n",
       "      <td>5</td>\n",
       "    </tr>\n",
       "    <tr>\n",
       "      <th>9</th>\n",
       "      <td>Abia</td>\n",
       "      <td>Aba North</td>\n",
       "      <td>Sowore Omoyele Stephen</td>\n",
       "      <td>AAC</td>\n",
       "      <td>5</td>\n",
       "    </tr>\n",
       "  </tbody>\n",
       "</table>\n",
       "</div>"
      ],
      "text/plain": [
       "  STATE        LGA                      CANDIDATE PARTY   VOTES\n",
       "0  Abia  Aba North              Tinubu Bola Ahmed   APC     190\n",
       "1  Abia  Aba North                 Abubakar Atiku   PDP     428\n",
       "2  Abia  Aba North              Obi Peter Gregory    LP  35,898\n",
       "3  Abia  Aba North  Musa Mohammed Rabiu Kwankwaso  NNPP      94\n",
       "4  Abia  Aba North                Kachikwu Dumebi   ADC      18\n",
       "5  Abia  Aba North   Umeadi Peter Nnanna Chukwudi  APGA     368\n",
       "6  Abia  Aba North              Sani Yabagi Yusuf   ADP       9\n",
       "7  Abia  Aba North     Imumolen Irene Christopher     A      14\n",
       "8  Abia  Aba North               Almustapha Hamza    AA       5\n",
       "9  Abia  Aba North         Sowore Omoyele Stephen   AAC       5"
      ]
     },
     "execution_count": 117,
     "metadata": {},
     "output_type": "execute_result"
    }
   ],
   "source": [
    "# First 10 rows of data, Note that the VOTES column is an object instead of an int/float data type. \n",
    "#Also it has ',' which needs to be removed\n",
    "\n",
    "df1.head(10)"
   ]
  },
  {
   "cell_type": "code",
   "execution_count": 118,
   "id": "733e7932",
   "metadata": {},
   "outputs": [
    {
     "data": {
      "text/plain": [
       "STATE        0\n",
       "LGA          0\n",
       "CANDIDATE    0\n",
       "PARTY        0\n",
       "VOTES        0\n",
       "dtype: int64"
      ]
     },
     "execution_count": 118,
     "metadata": {},
     "output_type": "execute_result"
    }
   ],
   "source": [
    "#Check for missing data. The check shown no missing data, but we know there are no inputs for some of our rows\n",
    "#from the website.\n",
    "\n",
    "df1.isnull().sum()"
   ]
  },
  {
   "cell_type": "code",
   "execution_count": 119,
   "id": "b1de99fb",
   "metadata": {},
   "outputs": [
    {
     "name": "stdout",
     "output_type": "stream",
     "text": [
      "<class 'pandas.core.frame.DataFrame'>\n",
      "RangeIndex: 13932 entries, 0 to 13931\n",
      "Data columns (total 5 columns):\n",
      " #   Column     Non-Null Count  Dtype \n",
      "---  ------     --------------  ----- \n",
      " 0   STATE      13932 non-null  object\n",
      " 1   LGA        13932 non-null  object\n",
      " 2   CANDIDATE  13932 non-null  object\n",
      " 3   PARTY      13932 non-null  object\n",
      " 4   VOTES      13932 non-null  object\n",
      "dtypes: object(5)\n",
      "memory usage: 544.3+ KB\n"
     ]
    }
   ],
   "source": [
    "#Check for info of columns and data types.\n",
    "\n",
    "df1.info()"
   ]
  },
  {
   "cell_type": "code",
   "execution_count": 121,
   "id": "e85deb62",
   "metadata": {},
   "outputs": [
    {
     "data": {
      "text/plain": [
       "6965       \n",
       "7832       \n",
       "7833       \n",
       "7834       \n",
       "7835       \n",
       "       ... \n",
       "3513     99\n",
       "957     991\n",
       "2756    991\n",
       "4229    992\n",
       "6194    994\n",
       "Name: VOTES, Length: 13932, dtype: object"
      ]
     },
     "execution_count": 121,
     "metadata": {},
     "output_type": "execute_result"
    }
   ],
   "source": [
    "#sorting the VOTES column shows there is empty cells.\n",
    "\n",
    "df1[\"VOTES\"].sort_values()"
   ]
  },
  {
   "cell_type": "code",
   "execution_count": 123,
   "id": "366accb2",
   "metadata": {},
   "outputs": [
    {
     "name": "stdout",
     "output_type": "stream",
     "text": [
      "None\n"
     ]
    }
   ],
   "source": [
    "#Converting the empty cells to NaN values.\n",
    "\n",
    "print(df1.replace(r'^\\s*$', np.nan, regex=True, inplace=True))"
   ]
  },
  {
   "cell_type": "code",
   "execution_count": 126,
   "id": "5f6878cf",
   "metadata": {},
   "outputs": [
    {
     "name": "stdout",
     "output_type": "stream",
     "text": [
      "<class 'pandas.core.frame.DataFrame'>\n",
      "RangeIndex: 13932 entries, 0 to 13931\n",
      "Data columns (total 5 columns):\n",
      " #   Column     Non-Null Count  Dtype \n",
      "---  ------     --------------  ----- \n",
      " 0   STATE      13932 non-null  object\n",
      " 1   LGA        13932 non-null  object\n",
      " 2   CANDIDATE  13932 non-null  object\n",
      " 3   PARTY      13932 non-null  object\n",
      " 4   VOTES      5829 non-null   object\n",
      "dtypes: object(5)\n",
      "memory usage: 544.3+ KB\n"
     ]
    }
   ],
   "source": [
    "#Checking the info now shows the VOTES column only has 5829 non-null values, 8103 null values. \n",
    "\n",
    "df1.info()"
   ]
  },
  {
   "cell_type": "code",
   "execution_count": 129,
   "id": "9632bb78",
   "metadata": {},
   "outputs": [
    {
     "data": {
      "image/png": "[encoded data removed]",
      "text/plain": [
       "<Figure size 640x480 with 1 Axes>"
      ]
     },
     "metadata": {},
     "output_type": "display_data"
    }
   ],
   "source": [
    "#Missing data visual representation.\n",
    "\n",
    "sns.heatmap(df1.isnull(),cmap =\"magma\",cbar=False)\n",
    "plt.show()"
   ]
  },
  {
   "cell_type": "code",
   "execution_count": 130,
   "id": "21342497",
   "metadata": {},
   "outputs": [
    {
     "data": {
      "text/plain": [
       "STATE         0.000000\n",
       "LGA           0.000000\n",
       "CANDIDATE     0.000000\n",
       "PARTY         0.000000\n",
       "VOTES        58.161068\n",
       "dtype: float64"
      ]
     },
     "execution_count": 130,
     "metadata": {},
     "output_type": "execute_result"
    }
   ],
   "source": [
    "#From our calculation, VOTES column has 58.16% data missing.\n",
    "\n",
    "percent_missing = df1.isnull().sum()*100/len(df1)\n",
    "percent_missing\n",
    "\n",
    "\n"
   ]
  },
  {
   "cell_type": "code",
   "execution_count": 132,
   "id": "994cbcd4",
   "metadata": {},
   "outputs": [],
   "source": [
    "#I dropped the null data, and named the new dataframe df2 for comparison.\n",
    "\n",
    "df2 =df1.dropna()"
   ]
  },
  {
   "cell_type": "code",
   "execution_count": 137,
   "id": "1e9d7334",
   "metadata": {},
   "outputs": [
    {
     "name": "stdout",
     "output_type": "stream",
     "text": [
      "<class 'pandas.core.frame.DataFrame'>\n",
      "Int64Index: 5829 entries, 0 to 13917\n",
      "Data columns (total 5 columns):\n",
      " #   Column     Non-Null Count  Dtype \n",
      "---  ------     --------------  ----- \n",
      " 0   STATE      5829 non-null   object\n",
      " 1   LGA        5829 non-null   object\n",
      " 2   CANDIDATE  5829 non-null   object\n",
      " 3   PARTY      5829 non-null   object\n",
      " 4   VOTES      5829 non-null   object\n",
      "dtypes: object(5)\n",
      "memory usage: 273.2+ KB\n"
     ]
    }
   ],
   "source": [
    "df2.info()"
   ]
  },
  {
   "cell_type": "code",
   "execution_count": 139,
   "id": "1572ee04",
   "metadata": {},
   "outputs": [
    {
     "name": "stderr",
     "output_type": "stream",
     "text": [
      "/var/folders/gz/khf86byn4hb441skkcdc1x380000gn/T/ipykernel_8548/956157471.py:3: SettingWithCopyWarning: \n",
      "A value is trying to be set on a copy of a slice from a DataFrame.\n",
      "Try using .loc[row_indexer,col_indexer] = value instead\n",
      "\n",
      "See the caveats in the documentation: https://pandas.pydata.org/pandas-docs/stable/user_guide/indexing.html#returning-a-view-versus-a-copy\n",
      "  df2[\"VOTES\"] = df2[\"VOTES\"].str.replace(\",\",\"\")\n",
      "/var/folders/gz/khf86byn4hb441skkcdc1x380000gn/T/ipykernel_8548/956157471.py:4: SettingWithCopyWarning: \n",
      "A value is trying to be set on a copy of a slice from a DataFrame.\n",
      "Try using .loc[row_indexer,col_indexer] = value instead\n",
      "\n",
      "See the caveats in the documentation: https://pandas.pydata.org/pandas-docs/stable/user_guide/indexing.html#returning-a-view-versus-a-copy\n",
      "  df2[\"VOTES\"] = df2[\"VOTES\"].astype('int')\n"
     ]
    }
   ],
   "source": [
    "#Converting VOTES column to integer and removing ',' from the values.\n",
    "\n",
    "df2[\"VOTES\"] = df2[\"VOTES\"].str.replace(\",\",\"\")\n",
    "df2[\"VOTES\"] = df2[\"VOTES\"].astype('int')\n"
   ]
  },
  {
   "cell_type": "code",
   "execution_count": 141,
   "id": "0b9c80e9",
   "metadata": {},
   "outputs": [
    {
     "name": "stdout",
     "output_type": "stream",
     "text": [
      "  STATE        LGA                      CANDIDATE PARTY  VOTES\n",
      "0  Abia  Aba North              Tinubu Bola Ahmed   APC    190\n",
      "1  Abia  Aba North                 Abubakar Atiku   PDP    428\n",
      "2  Abia  Aba North              Obi Peter Gregory    LP  35898\n",
      "3  Abia  Aba North  Musa Mohammed Rabiu Kwankwaso  NNPP     94\n",
      "4  Abia  Aba North                Kachikwu Dumebi   ADC     18\n",
      "5  Abia  Aba North   Umeadi Peter Nnanna Chukwudi  APGA    368\n",
      "6  Abia  Aba North              Sani Yabagi Yusuf   ADP      9\n",
      "7  Abia  Aba North     Imumolen Irene Christopher     A     14\n",
      "8  Abia  Aba North               Almustapha Hamza    AA      5\n",
      "9  Abia  Aba North         Sowore Omoyele Stephen   AAC      5\n"
     ]
    },
    {
     "data": {
      "text/plain": [
       "STATE         object\n",
       "LGA           object\n",
       "CANDIDATE     object\n",
       "PARTY         object\n",
       "VOTES        float64\n",
       "dtype: object"
      ]
     },
     "execution_count": 141,
     "metadata": {},
     "output_type": "execute_result"
    }
   ],
   "source": [
    "#The changes made above.\n",
    "\n",
    "print(df2.head(10))\n",
    "df.dtypes"
   ]
  },
  {
   "cell_type": "code",
   "execution_count": 144,
   "id": "338c722f",
   "metadata": {},
   "outputs": [
    {
     "name": "stdout",
     "output_type": "stream",
     "text": [
      "The number of states that participated are: 37\n",
      "['Abia' 'Adamawa' 'Akwa Ibom' 'Anambra' 'Bauchi' 'Bayelsa' 'Benue' 'Borno'\n",
      " 'Cross River' 'Delta' 'Ebonyi' 'Edo' 'Ekiti' 'Enugu' 'Gombe' 'Imo'\n",
      " 'Jigawa' 'Kaduna' 'Kano' 'Katsina' 'Kebbi' 'Kogi' 'Kwara' 'Lagos'\n",
      " 'Nasarawa' 'Niger' 'Ogun' 'Ondo' 'Osun' 'Oyo' 'Plateau' 'Rivers' 'Sokoto'\n",
      " 'Taraba' 'Yobe' 'Zamfara' 'Federal Capital Territory (FCT)']\n"
     ]
    }
   ],
   "source": [
    "#Number of States in Data sets, with the states below\n",
    "\n",
    "print(f\"The number of states that participated are: {len(df2['STATE'].unique())}\")\n",
    "print(df2['STATE'].unique())"
   ]
  },
  {
   "cell_type": "code",
   "execution_count": 151,
   "id": "695b6ae8",
   "metadata": {},
   "outputs": [],
   "source": [
    "#I group the multiple lines/instance of state into 1 for analysis\n",
    "\n",
    "state_group1 = df1.groupby('STATE')\n",
    "state_group2 = df2.groupby('STATE')"
   ]
  },
  {
   "cell_type": "code",
   "execution_count": 182,
   "id": "9173d963",
   "metadata": {},
   "outputs": [],
   "source": [
    "#Number of Local Government Areas in respective states, this will also be shown in visualization.\n",
    "\n",
    "df3 = state_group1[['LGA']].nunique()\n",
    "df4 = state_group2[['LGA']].nunique()"
   ]
  },
  {
   "cell_type": "code",
   "execution_count": 188,
   "id": "cdb7a675",
   "metadata": {},
   "outputs": [],
   "source": [
    "df3 = df3.merge(df4, how='inner',on='STATE', suffixes=('_total', '_with_results'))"
   ]
  },
  {
   "cell_type": "code",
   "execution_count": 189,
   "id": "5a466276",
   "metadata": {},
   "outputs": [
    {
     "data": {
      "text/html": [
       "<div>\n",
       "<style scoped>\n",
       "    .dataframe tbody tr th:only-of-type {\n",
       "        vertical-align: middle;\n",
       "    }\n",
       "\n",
       "    .dataframe tbody tr th {\n",
       "        vertical-align: top;\n",
       "    }\n",
       "\n",
       "    .dataframe thead th {\n",
       "        text-align: right;\n",
       "    }\n",
       "</style>\n",
       "<table border=\"1\" class=\"dataframe\">\n",
       "  <thead>\n",
       "    <tr style=\"text-align: right;\">\n",
       "      <th></th>\n",
       "      <th>LGA_total</th>\n",
       "      <th>LGA_with_results</th>\n",
       "    </tr>\n",
       "    <tr>\n",
       "      <th>STATE</th>\n",
       "      <th></th>\n",
       "      <th></th>\n",
       "    </tr>\n",
       "  </thead>\n",
       "  <tbody>\n",
       "    <tr>\n",
       "      <th>Abia</th>\n",
       "      <td>17</td>\n",
       "      <td>4</td>\n",
       "    </tr>\n",
       "    <tr>\n",
       "      <th>Adamawa</th>\n",
       "      <td>21</td>\n",
       "      <td>13</td>\n",
       "    </tr>\n",
       "    <tr>\n",
       "      <th>Akwa Ibom</th>\n",
       "      <td>31</td>\n",
       "      <td>25</td>\n",
       "    </tr>\n",
       "    <tr>\n",
       "      <th>Anambra</th>\n",
       "      <td>21</td>\n",
       "      <td>21</td>\n",
       "    </tr>\n",
       "    <tr>\n",
       "      <th>Bauchi</th>\n",
       "      <td>20</td>\n",
       "      <td>9</td>\n",
       "    </tr>\n",
       "    <tr>\n",
       "      <th>Bayelsa</th>\n",
       "      <td>8</td>\n",
       "      <td>8</td>\n",
       "    </tr>\n",
       "    <tr>\n",
       "      <th>Benue</th>\n",
       "      <td>23</td>\n",
       "      <td>2</td>\n",
       "    </tr>\n",
       "    <tr>\n",
       "      <th>Borno</th>\n",
       "      <td>27</td>\n",
       "      <td>4</td>\n",
       "    </tr>\n",
       "    <tr>\n",
       "      <th>Cross River</th>\n",
       "      <td>18</td>\n",
       "      <td>3</td>\n",
       "    </tr>\n",
       "    <tr>\n",
       "      <th>Delta</th>\n",
       "      <td>25</td>\n",
       "      <td>9</td>\n",
       "    </tr>\n",
       "    <tr>\n",
       "      <th>Ebonyi</th>\n",
       "      <td>13</td>\n",
       "      <td>9</td>\n",
       "    </tr>\n",
       "    <tr>\n",
       "      <th>Edo</th>\n",
       "      <td>18</td>\n",
       "      <td>8</td>\n",
       "    </tr>\n",
       "    <tr>\n",
       "      <th>Ekiti</th>\n",
       "      <td>16</td>\n",
       "      <td>16</td>\n",
       "    </tr>\n",
       "    <tr>\n",
       "      <th>Enugu</th>\n",
       "      <td>17</td>\n",
       "      <td>17</td>\n",
       "    </tr>\n",
       "    <tr>\n",
       "      <th>Federal Capital Territory (FCT)</th>\n",
       "      <td>6</td>\n",
       "      <td>6</td>\n",
       "    </tr>\n",
       "    <tr>\n",
       "      <th>Gombe</th>\n",
       "      <td>11</td>\n",
       "      <td>3</td>\n",
       "    </tr>\n",
       "    <tr>\n",
       "      <th>Imo</th>\n",
       "      <td>27</td>\n",
       "      <td>2</td>\n",
       "    </tr>\n",
       "    <tr>\n",
       "      <th>Jigawa</th>\n",
       "      <td>27</td>\n",
       "      <td>5</td>\n",
       "    </tr>\n",
       "    <tr>\n",
       "      <th>Kaduna</th>\n",
       "      <td>23</td>\n",
       "      <td>18</td>\n",
       "    </tr>\n",
       "    <tr>\n",
       "      <th>Kano</th>\n",
       "      <td>44</td>\n",
       "      <td>43</td>\n",
       "    </tr>\n",
       "    <tr>\n",
       "      <th>Katsina</th>\n",
       "      <td>34</td>\n",
       "      <td>6</td>\n",
       "    </tr>\n",
       "    <tr>\n",
       "      <th>Kebbi</th>\n",
       "      <td>21</td>\n",
       "      <td>5</td>\n",
       "    </tr>\n",
       "    <tr>\n",
       "      <th>Kogi</th>\n",
       "      <td>21</td>\n",
       "      <td>7</td>\n",
       "    </tr>\n",
       "    <tr>\n",
       "      <th>Kwara</th>\n",
       "      <td>16</td>\n",
       "      <td>16</td>\n",
       "    </tr>\n",
       "    <tr>\n",
       "      <th>Lagos</th>\n",
       "      <td>20</td>\n",
       "      <td>20</td>\n",
       "    </tr>\n",
       "    <tr>\n",
       "      <th>Nasarawa</th>\n",
       "      <td>13</td>\n",
       "      <td>7</td>\n",
       "    </tr>\n",
       "    <tr>\n",
       "      <th>Niger</th>\n",
       "      <td>25</td>\n",
       "      <td>4</td>\n",
       "    </tr>\n",
       "    <tr>\n",
       "      <th>Ogun</th>\n",
       "      <td>20</td>\n",
       "      <td>11</td>\n",
       "    </tr>\n",
       "    <tr>\n",
       "      <th>Ondo</th>\n",
       "      <td>18</td>\n",
       "      <td>9</td>\n",
       "    </tr>\n",
       "    <tr>\n",
       "      <th>Osun</th>\n",
       "      <td>30</td>\n",
       "      <td>30</td>\n",
       "    </tr>\n",
       "    <tr>\n",
       "      <th>Oyo</th>\n",
       "      <td>33</td>\n",
       "      <td>24</td>\n",
       "    </tr>\n",
       "    <tr>\n",
       "      <th>Plateau</th>\n",
       "      <td>17</td>\n",
       "      <td>7</td>\n",
       "    </tr>\n",
       "    <tr>\n",
       "      <th>Rivers</th>\n",
       "      <td>23</td>\n",
       "      <td>19</td>\n",
       "    </tr>\n",
       "    <tr>\n",
       "      <th>Sokoto</th>\n",
       "      <td>23</td>\n",
       "      <td>2</td>\n",
       "    </tr>\n",
       "    <tr>\n",
       "      <th>Taraba</th>\n",
       "      <td>16</td>\n",
       "      <td>9</td>\n",
       "    </tr>\n",
       "    <tr>\n",
       "      <th>Yobe</th>\n",
       "      <td>17</td>\n",
       "      <td>1</td>\n",
       "    </tr>\n",
       "    <tr>\n",
       "      <th>Zamfara</th>\n",
       "      <td>14</td>\n",
       "      <td>5</td>\n",
       "    </tr>\n",
       "  </tbody>\n",
       "</table>\n",
       "</div>"
      ],
      "text/plain": [
       "                                 LGA_total  LGA_with_results\n",
       "STATE                                                       \n",
       "Abia                                    17                 4\n",
       "Adamawa                                 21                13\n",
       "Akwa Ibom                               31                25\n",
       "Anambra                                 21                21\n",
       "Bauchi                                  20                 9\n",
       "Bayelsa                                  8                 8\n",
       "Benue                                   23                 2\n",
       "Borno                                   27                 4\n",
       "Cross River                             18                 3\n",
       "Delta                                   25                 9\n",
       "Ebonyi                                  13                 9\n",
       "Edo                                     18                 8\n",
       "Ekiti                                   16                16\n",
       "Enugu                                   17                17\n",
       "Federal Capital Territory (FCT)          6                 6\n",
       "Gombe                                   11                 3\n",
       "Imo                                     27                 2\n",
       "Jigawa                                  27                 5\n",
       "Kaduna                                  23                18\n",
       "Kano                                    44                43\n",
       "Katsina                                 34                 6\n",
       "Kebbi                                   21                 5\n",
       "Kogi                                    21                 7\n",
       "Kwara                                   16                16\n",
       "Lagos                                   20                20\n",
       "Nasarawa                                13                 7\n",
       "Niger                                   25                 4\n",
       "Ogun                                    20                11\n",
       "Ondo                                    18                 9\n",
       "Osun                                    30                30\n",
       "Oyo                                     33                24\n",
       "Plateau                                 17                 7\n",
       "Rivers                                  23                19\n",
       "Sokoto                                  23                 2\n",
       "Taraba                                  16                 9\n",
       "Yobe                                    17                 1\n",
       "Zamfara                                 14                 5"
      ]
     },
     "execution_count": 189,
     "metadata": {},
     "output_type": "execute_result"
    }
   ],
   "source": [
    "df3"
   ]
  },
  {
   "cell_type": "markdown",
   "id": "2e0d56c8",
   "metadata": {},
   "source": [
    "#### The chart below shows comparison of the number of LGAs in the respective states to the number of LGAs with results the data provided me with. Anambra, Bayelsa, Enugu, Ekiti, Kwara, Osun and FCT had results in all its LGAs as at the time of this report."
   ]
  },
  {
   "cell_type": "code",
   "execution_count": 193,
   "id": "4c333f40",
   "metadata": {},
   "outputs": [
    {
     "data": {
      "image/png": "[encoded data removed]",
      "text/plain": [
       "<Figure size 1500x500 with 1 Axes>"
      ]
     },
     "metadata": {},
     "output_type": "display_data"
    }
   ],
   "source": [
    "df3.plot(kind='bar', figsize = (15,5))\n",
    "plt.show()"
   ]
  },
  {
   "cell_type": "code",
   "execution_count": 250,
   "id": "6a8e2837",
   "metadata": {},
   "outputs": [
    {
     "name": "stdout",
     "output_type": "stream",
     "text": [
      " Total number of Votes in the data provided: 13216987\n"
     ]
    },
    {
     "data": {
      "text/html": [
       "<div>\n",
       "<style scoped>\n",
       "    .dataframe tbody tr th:only-of-type {\n",
       "        vertical-align: middle;\n",
       "    }\n",
       "\n",
       "    .dataframe tbody tr th {\n",
       "        vertical-align: top;\n",
       "    }\n",
       "\n",
       "    .dataframe thead th {\n",
       "        text-align: right;\n",
       "    }\n",
       "</style>\n",
       "<table border=\"1\" class=\"dataframe\">\n",
       "  <thead>\n",
       "    <tr style=\"text-align: right;\">\n",
       "      <th></th>\n",
       "      <th>VOTES</th>\n",
       "      <th>VOTES_IN_PERCENTAGE</th>\n",
       "    </tr>\n",
       "    <tr>\n",
       "      <th>CANDIDATE</th>\n",
       "      <th></th>\n",
       "      <th></th>\n",
       "    </tr>\n",
       "  </thead>\n",
       "  <tbody>\n",
       "    <tr>\n",
       "      <th>Tinubu Bola Ahmed</th>\n",
       "      <td>4603978</td>\n",
       "      <td>34.833794</td>\n",
       "    </tr>\n",
       "    <tr>\n",
       "      <th>Obi Peter Gregory</th>\n",
       "      <td>3932488</td>\n",
       "      <td>29.753286</td>\n",
       "    </tr>\n",
       "    <tr>\n",
       "      <th>Abubakar Atiku</th>\n",
       "      <td>3233442</td>\n",
       "      <td>24.464290</td>\n",
       "    </tr>\n",
       "    <tr>\n",
       "      <th>Musa Mohammed Rabiu Kwankwaso</th>\n",
       "      <td>1148569</td>\n",
       "      <td>8.690097</td>\n",
       "    </tr>\n",
       "    <tr>\n",
       "      <th>Adebayo Adewole Ebenezer</th>\n",
       "      <td>45535</td>\n",
       "      <td>0.344519</td>\n",
       "    </tr>\n",
       "    <tr>\n",
       "      <th>Kachikwu Dumebi</th>\n",
       "      <td>41381</td>\n",
       "      <td>0.313090</td>\n",
       "    </tr>\n",
       "    <tr>\n",
       "      <th>Nwanyanwu Daniel Daberechukwu</th>\n",
       "      <td>40808</td>\n",
       "      <td>0.308754</td>\n",
       "    </tr>\n",
       "    <tr>\n",
       "      <th>Imumolen Irene Christopher</th>\n",
       "      <td>39838</td>\n",
       "      <td>0.301415</td>\n",
       "    </tr>\n",
       "    <tr>\n",
       "      <th>Ado-Ibrahim Abdulmalik</th>\n",
       "      <td>32509</td>\n",
       "      <td>0.245964</td>\n",
       "    </tr>\n",
       "    <tr>\n",
       "      <th>Umeadi Peter Nnanna Chukwudi</th>\n",
       "      <td>25320</td>\n",
       "      <td>0.191572</td>\n",
       "    </tr>\n",
       "    <tr>\n",
       "      <th>Sani Yabagi Yusuf</th>\n",
       "      <td>19671</td>\n",
       "      <td>0.148831</td>\n",
       "    </tr>\n",
       "    <tr>\n",
       "      <th>Ojei Princess Chichi</th>\n",
       "      <td>12097</td>\n",
       "      <td>0.091526</td>\n",
       "    </tr>\n",
       "    <tr>\n",
       "      <th>Osakwe Felix Johnson</th>\n",
       "      <td>9370</td>\n",
       "      <td>0.070894</td>\n",
       "    </tr>\n",
       "    <tr>\n",
       "      <th>Abiola Latifu Kolawole</th>\n",
       "      <td>7268</td>\n",
       "      <td>0.054990</td>\n",
       "    </tr>\n",
       "    <tr>\n",
       "      <th>Sowore Omoyele Stephen</th>\n",
       "      <td>7231</td>\n",
       "      <td>0.054710</td>\n",
       "    </tr>\n",
       "    <tr>\n",
       "      <th>Adenuga Sunday Oluwafemi</th>\n",
       "      <td>6824</td>\n",
       "      <td>0.051631</td>\n",
       "    </tr>\n",
       "    <tr>\n",
       "      <th>Almustapha Hamza</th>\n",
       "      <td>5714</td>\n",
       "      <td>0.043232</td>\n",
       "    </tr>\n",
       "    <tr>\n",
       "      <th>Nnadi Charles Osita</th>\n",
       "      <td>4944</td>\n",
       "      <td>0.037406</td>\n",
       "    </tr>\n",
       "  </tbody>\n",
       "</table>\n",
       "</div>"
      ],
      "text/plain": [
       "                                 VOTES  VOTES_IN_PERCENTAGE\n",
       "CANDIDATE                                                  \n",
       "Tinubu Bola Ahmed              4603978            34.833794\n",
       "Obi Peter Gregory              3932488            29.753286\n",
       "Abubakar Atiku                 3233442            24.464290\n",
       "Musa Mohammed Rabiu Kwankwaso  1148569             8.690097\n",
       "Adebayo Adewole Ebenezer         45535             0.344519\n",
       "Kachikwu Dumebi                  41381             0.313090\n",
       "Nwanyanwu Daniel Daberechukwu    40808             0.308754\n",
       "Imumolen Irene Christopher       39838             0.301415\n",
       "Ado-Ibrahim Abdulmalik           32509             0.245964\n",
       "Umeadi Peter Nnanna Chukwudi     25320             0.191572\n",
       "Sani Yabagi Yusuf                19671             0.148831\n",
       "Ojei Princess Chichi             12097             0.091526\n",
       "Osakwe Felix Johnson              9370             0.070894\n",
       "Abiola Latifu Kolawole            7268             0.054990\n",
       "Sowore Omoyele Stephen            7231             0.054710\n",
       "Adenuga Sunday Oluwafemi          6824             0.051631\n",
       "Almustapha Hamza                  5714             0.043232\n",
       "Nnadi Charles Osita               4944             0.037406"
      ]
     },
     "execution_count": 250,
     "metadata": {},
     "output_type": "execute_result"
    }
   ],
   "source": [
    "# Calculation for total votes and  votes per candidate.\n",
    "\n",
    "print(f\" Total number of Votes in the data provided: {df2['VOTES'].sum()}\")\n",
    "\n",
    "candidates_gp = df2.groupby('CANDIDATE')[\"VOTES\"].sum()\n",
    "candidates_gp = candidates_gp.to_frame().sort_values('VOTES', ascending=False)\n",
    "\n",
    "\n",
    "votes_percent = (df2.groupby('CANDIDATE')[\"VOTES\"].sum()/df2[\"VOTES\"].sum()*100).to_frame().sort_values('VOTES', ascending =False)\n",
    "\n",
    "\n",
    "candidates_gp = candidates_gp.merge(votes_percent, how='inner',on='CANDIDATE', suffixes=('', '_IN_PERCENTAGE'))\n",
    "candidates_gp"
   ]
  },
  {
   "cell_type": "code",
   "execution_count": 233,
   "id": "aa305afe",
   "metadata": {},
   "outputs": [
    {
     "data": {
      "text/html": [
       "<div>\n",
       "<style scoped>\n",
       "    .dataframe tbody tr th:only-of-type {\n",
       "        vertical-align: middle;\n",
       "    }\n",
       "\n",
       "    .dataframe tbody tr th {\n",
       "        vertical-align: top;\n",
       "    }\n",
       "\n",
       "    .dataframe thead th {\n",
       "        text-align: right;\n",
       "    }\n",
       "</style>\n",
       "<table border=\"1\" class=\"dataframe\">\n",
       "  <thead>\n",
       "    <tr style=\"text-align: right;\">\n",
       "      <th></th>\n",
       "      <th>VOTES</th>\n",
       "    </tr>\n",
       "    <tr>\n",
       "      <th>STATE</th>\n",
       "      <th></th>\n",
       "    </tr>\n",
       "  </thead>\n",
       "  <tbody>\n",
       "    <tr>\n",
       "      <th>Kano</th>\n",
       "      <td>1631459</td>\n",
       "    </tr>\n",
       "    <tr>\n",
       "      <th>Lagos</th>\n",
       "      <td>1259384</td>\n",
       "    </tr>\n",
       "    <tr>\n",
       "      <th>Kaduna</th>\n",
       "      <td>1103087</td>\n",
       "    </tr>\n",
       "    <tr>\n",
       "      <th>Osun</th>\n",
       "      <td>724397</td>\n",
       "    </tr>\n",
       "    <tr>\n",
       "      <th>Anambra</th>\n",
       "      <td>613174</td>\n",
       "    </tr>\n",
       "  </tbody>\n",
       "</table>\n",
       "</div>"
      ],
      "text/plain": [
       "           VOTES\n",
       "STATE           \n",
       "Kano     1631459\n",
       "Lagos    1259384\n",
       "Kaduna   1103087\n",
       "Osun      724397\n",
       "Anambra   613174"
      ]
     },
     "execution_count": 233,
     "metadata": {},
     "output_type": "execute_result"
    }
   ],
   "source": [
    "#Top 5 states with the most votes.\n",
    "\n",
    "state_votes = state_group2['VOTES'].sum().to_frame().sort_values('VOTES', ascending=False)\n",
    "state_votes.head()"
   ]
  },
  {
   "cell_type": "code",
   "execution_count": 226,
   "id": "1bcb7758",
   "metadata": {},
   "outputs": [
    {
     "data": {
      "text/html": [
       "<div>\n",
       "<style scoped>\n",
       "    .dataframe tbody tr th:only-of-type {\n",
       "        vertical-align: middle;\n",
       "    }\n",
       "\n",
       "    .dataframe tbody tr th {\n",
       "        vertical-align: top;\n",
       "    }\n",
       "\n",
       "    .dataframe thead th {\n",
       "        text-align: right;\n",
       "    }\n",
       "</style>\n",
       "<table border=\"1\" class=\"dataframe\">\n",
       "  <thead>\n",
       "    <tr style=\"text-align: right;\">\n",
       "      <th></th>\n",
       "      <th>LGA</th>\n",
       "      <th>VOTES</th>\n",
       "    </tr>\n",
       "  </thead>\n",
       "  <tbody>\n",
       "    <tr>\n",
       "      <th>LGA</th>\n",
       "      <td>1.000000</td>\n",
       "      <td>0.380194</td>\n",
       "    </tr>\n",
       "    <tr>\n",
       "      <th>VOTES</th>\n",
       "      <td>0.380194</td>\n",
       "      <td>1.000000</td>\n",
       "    </tr>\n",
       "  </tbody>\n",
       "</table>\n",
       "</div>"
      ],
      "text/plain": [
       "            LGA     VOTES\n",
       "LGA    1.000000  0.380194\n",
       "VOTES  0.380194  1.000000"
      ]
     },
     "execution_count": 226,
     "metadata": {},
     "output_type": "execute_result"
    }
   ],
   "source": [
    "# Test for correlation between number of LGAs and Votes obtained.\n",
    "\n",
    "df3_corr = state_group1[['LGA']].nunique()\n",
    "df3_corr = df3_corr.merge(state_votes, how='inner',on='STATE', suffixes=('', ''))\n",
    "df3_corr.corr()"
   ]
  },
  {
   "cell_type": "code",
   "execution_count": 229,
   "id": "200357d2",
   "metadata": {},
   "outputs": [
    {
     "data": {
      "image/png": "[encoded data removed]",
      "text/plain": [
       "<Figure size 640x480 with 1 Axes>"
      ]
     },
     "metadata": {},
     "output_type": "display_data"
    }
   ],
   "source": [
    "#Scatter plot visualization of number of LGAs to Votes obtained. \n",
    "#The above corr() function gives a value of 0.380194, meaning positive weak correlation\n",
    "\n",
    "df3_corr.plot(kind='scatter', x='LGA', y='VOTES')\n",
    "plt.show()"
   ]
  },
  {
   "cell_type": "markdown",
   "id": "47e5ba56",
   "metadata": {},
   "source": [
    "## Summary\n",
    "### The results of the data provided are as follows."
   ]
  },
  {
   "cell_type": "code",
   "execution_count": 252,
   "id": "ec0c1d24",
   "metadata": {},
   "outputs": [
    {
     "data": {
      "text/html": [
       "<div>\n",
       "<style scoped>\n",
       "    .dataframe tbody tr th:only-of-type {\n",
       "        vertical-align: middle;\n",
       "    }\n",
       "\n",
       "    .dataframe tbody tr th {\n",
       "        vertical-align: top;\n",
       "    }\n",
       "\n",
       "    .dataframe thead th {\n",
       "        text-align: right;\n",
       "    }\n",
       "</style>\n",
       "<table border=\"1\" class=\"dataframe\">\n",
       "  <thead>\n",
       "    <tr style=\"text-align: right;\">\n",
       "      <th></th>\n",
       "      <th>VOTES</th>\n",
       "      <th>VOTES_IN_PERCENTAGE</th>\n",
       "    </tr>\n",
       "    <tr>\n",
       "      <th>CANDIDATE</th>\n",
       "      <th></th>\n",
       "      <th></th>\n",
       "    </tr>\n",
       "  </thead>\n",
       "  <tbody>\n",
       "    <tr>\n",
       "      <th>Tinubu Bola Ahmed</th>\n",
       "      <td>4603978</td>\n",
       "      <td>34.833794</td>\n",
       "    </tr>\n",
       "    <tr>\n",
       "      <th>Obi Peter Gregory</th>\n",
       "      <td>3932488</td>\n",
       "      <td>29.753286</td>\n",
       "    </tr>\n",
       "    <tr>\n",
       "      <th>Abubakar Atiku</th>\n",
       "      <td>3233442</td>\n",
       "      <td>24.464290</td>\n",
       "    </tr>\n",
       "  </tbody>\n",
       "</table>\n",
       "</div>"
      ],
      "text/plain": [
       "                     VOTES  VOTES_IN_PERCENTAGE\n",
       "CANDIDATE                                      \n",
       "Tinubu Bola Ahmed  4603978            34.833794\n",
       "Obi Peter Gregory  3932488            29.753286\n",
       "Abubakar Atiku     3233442            24.464290"
      ]
     },
     "execution_count": 252,
     "metadata": {},
     "output_type": "execute_result"
    }
   ],
   "source": [
    "candidates_gp.head(3)"
   ]
  },
  {
   "cell_type": "markdown",
   "id": "cebdf022",
   "metadata": {},
   "source": []
  }
 ],
 "metadata": {
  "kernelspec": {
   "display_name": "Python 3 (ipykernel)",
   "language": "python",
   "name": "python3"
  },
  "language_info": {
   "codemirror_mode": {
    "name": "ipython",
    "version": 3
   },
   "file_extension": ".py",
   "mimetype": "text/x-python",
   "name": "python",
   "nbconvert_exporter": "python",
   "pygments_lexer": "ipython3",
   "version": "3.9.13"
  }
 },
 "nbformat": 4,
 "nbformat_minor": 5
}
